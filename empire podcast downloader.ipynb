{
 "cells": [
  {
   "cell_type": "markdown",
   "metadata": {},
   "source": [
    "# Download via IDM"
   ]
  },
  {
   "cell_type": "code",
   "execution_count": 16,
   "metadata": {},
   "outputs": [],
   "source": [
    "!cd \"C:\\Program Files (x86)\\Internet Download Manager\\\""
   ]
  },
  {
   "cell_type": "code",
   "execution_count": 25,
   "metadata": {},
   "outputs": [],
   "source": [
    "!cd \\"
   ]
  },
  {
   "cell_type": "code",
   "execution_count": 21,
   "metadata": {},
   "outputs": [
    {
     "name": "stdout",
     "output_type": "stream",
     "text": [
      "C:\\Users\\htngu\\MachineLearning\\Podcast\n"
     ]
    }
   ],
   "source": [
    "!cd"
   ]
  },
  {
   "cell_type": "code",
   "execution_count": 26,
   "metadata": {},
   "outputs": [
    {
     "name": "stderr",
     "output_type": "stream",
     "text": [
      "''IDMan.exe'' is not recognized as an internal or external command,\n",
      "operable program or batch file.\n"
     ]
    }
   ],
   "source": [
    "!'IDMan.exe' /d \"https://bauernordic-pods.sharp-stream.com/gb/1206/mando_chapter_16_spoiler_special_5ddbfebe_normal.mp3\" /n"
   ]
  },
  {
   "cell_type": "code",
   "execution_count": 24,
   "metadata": {},
   "outputs": [],
   "source": [
    "path = \"https://bauernordic-pods.sharp-stream.com/gb/1206/mando_chapter_16_spoiler_special_5ddbfebe_normal.mp3\""
   ]
  },
  {
   "cell_type": "code",
   "execution_count": 39,
   "metadata": {},
   "outputs": [
    {
     "name": "stdout",
     "output_type": "stream",
     "text": [
      "Microsoft Windows [Version 10.0.19042.868]\r\n",
      "(c) 2020 Microsoft Corporation. All rights reserved.\r\n",
      "\r\n",
      "(stock) C:\\Users\\htngu\\MachineLearning\\Podcast>cd \"C:\\Program Files (x86)\\Internet Download Manager\\\"\n",
      "\r\n",
      "(stock) C:\\Program Files (x86)\\Internet Download Manager>path = 'meh.txt'\n",
      "\r\n",
      "(stock) C:\\Program Files (x86)\\Internet Download Manager>echo \"$path\"\n",
      "\"$path\"\r\n",
      "\r\n",
      "(stock) C:\\Program Files (x86)\\Internet Download Manager>"
     ]
    }
   ],
   "source": [
    "%%cmd\n",
    "cd \"C:\\Program Files (x86)\\Internet Download Manager\\\"\n",
    "path = 'meh.txt'\n",
    "echo \"$path\""
   ]
  },
  {
   "cell_type": "code",
   "execution_count": null,
   "metadata": {},
   "outputs": [],
   "source": [
    "#IDMan.exe /d \"$path\" /n /q"
   ]
  },
  {
   "cell_type": "markdown",
   "metadata": {},
   "source": [
    "# Extract download links"
   ]
  },
  {
   "cell_type": "code",
   "execution_count": 1,
   "metadata": {},
   "outputs": [],
   "source": [
    "import os\n",
    "import sys\n",
    "import code\n",
    "import requests\n",
    "import warnings\n",
    "import regex as re\n",
    "import datetime as dt\n",
    "import json \n",
    "from multiprocessing.dummy import Pool\n",
    "from tqdm import tqdm\n",
    "import numpy as np\n",
    "import pandas as pd\n",
    "from bs4 import BeautifulSoup\n",
    "from bs4.element import Tag\n",
    "\n",
    "warnings.filterwarnings(\"ignore\")"
   ]
  },
  {
   "cell_type": "code",
   "execution_count": null,
   "metadata": {},
   "outputs": [],
   "source": []
  },
  {
   "cell_type": "code",
   "execution_count": 2,
   "metadata": {},
   "outputs": [],
   "source": [
    "from utils import *"
   ]
  },
  {
   "cell_type": "code",
   "execution_count": 3,
   "metadata": {},
   "outputs": [],
   "source": [
    "url = 'https://rss.podplaystudio.com/1206.xml'"
   ]
  },
  {
   "cell_type": "code",
   "execution_count": 4,
   "metadata": {},
   "outputs": [],
   "source": [
    "hdr={'Host': 'rss.podplaystudio.com',\n",
    "'User-Agent': 'Mozilla/5.0 (Windows NT 10.0; Win64; x64; rv:86.0) Gecko/20100101 Firefox/86.0',\n",
    "'Accept': 'text/html,application/xhtml+xml,application/xml;q=0.9,image/webp,*/*;q=0.8',\n",
    "'Accept-Language': 'en-US,en;q=0.5',\n",
    "'Accept-Encoding': 'gzip, deflate, br',\n",
    "'Connection': 'keep-alive',\n",
    "'Upgrade-Insecure-Requests': '1',\n",
    "'Cache-Control': 'max-age=0',\n",
    "'If-Modified-Since': 'Thu, 01 Apr 2021 07:46:45 GMT',\n",
    "'If-None-Match': 'W/\"fc455a7e91d969a8f57d76597e42d512\"'     \n",
    "    }\n"
   ]
  },
  {
   "cell_type": "code",
   "execution_count": 5,
   "metadata": {},
   "outputs": [],
   "source": [
    "test = requests.get(url)"
   ]
  },
  {
   "cell_type": "code",
   "execution_count": 6,
   "metadata": {},
   "outputs": [],
   "source": [
    "soup = BeautifulSoup(test.content, \"html.parser\")"
   ]
  },
  {
   "cell_type": "code",
   "execution_count": 7,
   "metadata": {},
   "outputs": [],
   "source": [
    "podcast_descriptions = soup.find_all('description')[1:]"
   ]
  },
  {
   "cell_type": "code",
   "execution_count": 8,
   "metadata": {},
   "outputs": [],
   "source": [
    "podcast_titles = soup.find_all('title')[2:]"
   ]
  },
  {
   "cell_type": "code",
   "execution_count": 9,
   "metadata": {},
   "outputs": [],
   "source": [
    "podcast_links = soup.find_all('enclosure')"
   ]
  },
  {
   "cell_type": "code",
   "execution_count": 10,
   "metadata": {},
   "outputs": [
    {
     "data": {
      "text/html": [
       "<div>\n",
       "<style scoped>\n",
       "    .dataframe tbody tr th:only-of-type {\n",
       "        vertical-align: middle;\n",
       "    }\n",
       "\n",
       "    .dataframe tbody tr th {\n",
       "        vertical-align: top;\n",
       "    }\n",
       "\n",
       "    .dataframe thead th {\n",
       "        text-align: right;\n",
       "    }\n",
       "</style>\n",
       "<table border=\"1\" class=\"dataframe\">\n",
       "  <thead>\n",
       "    <tr style=\"text-align: right;\">\n",
       "      <th></th>\n",
       "      <th>Title</th>\n",
       "      <th>Description</th>\n",
       "      <th>Link</th>\n",
       "    </tr>\n",
       "  </thead>\n",
       "  <tbody>\n",
       "    <tr>\n",
       "      <th>0</th>\n",
       "      <td>The Falcon And The Winter Soldier Episode 5: T...</td>\n",
       "      <td>The fifth (and penultimate) episode of The Fal...</td>\n",
       "      <td>https://bauernordic-pods.sharp-stream.com/gb/1...</td>\n",
       "    </tr>\n",
       "    <tr>\n",
       "      <th>1</th>\n",
       "      <td>The Falcon And The Winter Soldier Bonus Episod...</td>\n",
       "      <td>Because our last Falcon And The Winter Soldier...</td>\n",
       "      <td>https://bauernordic-pods.sharp-stream.com/gb/1...</td>\n",
       "    </tr>\n",
       "    <tr>\n",
       "      <th>2</th>\n",
       "      <td>Ammonite ft. Francis Lee</td>\n",
       "      <td>Ammonite, Francis Lee's follow-up to his breat...</td>\n",
       "      <td>https://bauernordic-pods.sharp-stream.com/gb/1...</td>\n",
       "    </tr>\n",
       "    <tr>\n",
       "      <th>3</th>\n",
       "      <td>The Falcon And The Winter Soldier Episode 4: T...</td>\n",
       "      <td>This week's episode of The Falcon And The Wint...</td>\n",
       "      <td>https://bauernordic-pods.sharp-stream.com/gb/1...</td>\n",
       "    </tr>\n",
       "    <tr>\n",
       "      <th>4</th>\n",
       "      <td>The Falcon And The Winter Soldier Episode 3: P...</td>\n",
       "      <td>Nothing can stop the Empire Podcast's weekly M...</td>\n",
       "      <td>https://bauernordic-pods.sharp-stream.com/gb/1...</td>\n",
       "    </tr>\n",
       "  </tbody>\n",
       "</table>\n",
       "</div>"
      ],
      "text/plain": [
       "                                               Title  \\\n",
       "0  The Falcon And The Winter Soldier Episode 5: T...   \n",
       "1  The Falcon And The Winter Soldier Bonus Episod...   \n",
       "2                           Ammonite ft. Francis Lee   \n",
       "3  The Falcon And The Winter Soldier Episode 4: T...   \n",
       "4  The Falcon And The Winter Soldier Episode 3: P...   \n",
       "\n",
       "                                         Description  \\\n",
       "0  The fifth (and penultimate) episode of The Fal...   \n",
       "1  Because our last Falcon And The Winter Soldier...   \n",
       "2  Ammonite, Francis Lee's follow-up to his breat...   \n",
       "3  This week's episode of The Falcon And The Wint...   \n",
       "4  Nothing can stop the Empire Podcast's weekly M...   \n",
       "\n",
       "                                                Link  \n",
       "0  https://bauernordic-pods.sharp-stream.com/gb/1...  \n",
       "1  https://bauernordic-pods.sharp-stream.com/gb/1...  \n",
       "2  https://bauernordic-pods.sharp-stream.com/gb/1...  \n",
       "3  https://bauernordic-pods.sharp-stream.com/gb/1...  \n",
       "4  https://bauernordic-pods.sharp-stream.com/gb/1...  "
      ]
     },
     "execution_count": 10,
     "metadata": {},
     "output_type": "execute_result"
    }
   ],
   "source": [
    "podcast_df = pd.DataFrame({'Title': [title.contents[0] for title in podcast_titles]\n",
    "                            , 'Description': [desc.contents[0] for desc in podcast_descriptions]\n",
    "                            , 'Link': [link.attrs['url'].split('?')[0] for link in podcast_links ]\n",
    "                           }, index=None)\n",
    "podcast_df.head()"
   ]
  },
  {
   "cell_type": "code",
   "execution_count": 12,
   "metadata": {},
   "outputs": [],
   "source": [
    "podcast_df.to_csv('podcast_info.csv', index=False)"
   ]
  },
  {
   "cell_type": "code",
   "execution_count": 11,
   "metadata": {
    "scrolled": true
   },
   "outputs": [],
   "source": [
    "title_filter = ['Falcon' in title for title in podcast_df.Title]\n",
    "podcast_df[title_filter].Link.to_csv('falcon_podcast_links.txt', index=False)"
   ]
  },
  {
   "cell_type": "code",
   "execution_count": null,
   "metadata": {},
   "outputs": [],
   "source": []
  },
  {
   "cell_type": "code",
   "execution_count": 18,
   "metadata": {},
   "outputs": [
    {
     "data": {
      "text/plain": [
       "'https://bauernordic-pods.sharp-stream.com/gb/1206/faws_spoiler_special_episode_2_m_4b0860da_normal.mp3'"
      ]
     },
     "execution_count": 18,
     "metadata": {},
     "output_type": "execute_result"
    }
   ],
   "source": [
    "temp_link = podcast_links[0].attrs['url']\n",
    "temp_link.split('?')[0]"
   ]
  }
 ],
 "metadata": {
  "kernelspec": {
   "display_name": "Python 3",
   "language": "python",
   "name": "python3"
  },
  "language_info": {
   "codemirror_mode": {
    "name": "ipython",
    "version": 3
   },
   "file_extension": ".py",
   "mimetype": "text/x-python",
   "name": "python",
   "nbconvert_exporter": "python",
   "pygments_lexer": "ipython3",
   "version": "3.6.10"
  }
 },
 "nbformat": 4,
 "nbformat_minor": 2
}
